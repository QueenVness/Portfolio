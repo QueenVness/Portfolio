{
  "nbformat": 4,
  "nbformat_minor": 0,
  "metadata": {
    "colab": {
      "provenance": [],
      "collapsed_sections": [
        "Pg-a7-xULZ7m"
      ]
    },
    "kernelspec": {
      "name": "python3",
      "display_name": "Python 3"
    },
    "language_info": {
      "name": "python"
    }
  },
  "cells": [
    {
      "cell_type": "markdown",
      "source": [
        "> 1. DUPLICATE THIS COLAB TO START WORKING ON IT. Using File > Save a copy to drive.\n",
        "> 2. SHARE SETTINGS: In the new notebook, set the sharing settings to \"Anyone with the link\" by clicking \"Share\" on the top right corner.\n",
        "\n",
        "\n",
        "\n",
        "\n",
        "\n",
        "Welcome to this second week's project for *Intermediate SQL*!\n",
        "\n",
        "This week's lecture and material on CoRise showed you how to write joins in SQL and combine that with other things you learned in Week 1. For this project we further your understanding of these concepts by delving a bit deeper. However, for everything covered in this project, you can find related examples in our course material.\n"
      ],
      "metadata": {
        "id": "yVrZZ06OG2LW"
      }
    },
    {
      "cell_type": "markdown",
      "source": [
        "# **Prerequisite configuration**\n",
        "Below we install the software required to run this project. Please make sure to **RUN IT** by clicking on the play-button icon and to feel free to ignore the content of these two hidden cells."
      ],
      "metadata": {
        "id": "Pg-a7-xULZ7m"
      }
    },
    {
      "cell_type": "code",
      "execution_count": null,
      "metadata": {
        "id": "gUx2DQloGAzk"
      },
      "outputs": [],
      "source": [
        "%%capture\n",
        "!pip install git+https://github.com/corise-edu/course-intermediate-sql.git"
      ]
    },
    {
      "cell_type": "code",
      "source": [
        "import pandas as pd\n",
        "from IPython.display import display, HTML\n",
        "from sql_course import run as sql_run\n",
        "from sql_course import check\n",
        "\n",
        "# Show all the rows (instead of only a few)\n",
        "pd.set_option(\"display.max_rows\", None)\n",
        "\n",
        "# Set precision to max 2 decimals\n",
        "pd.set_option('precision', 2)\n",
        "\n",
        "# Set CSS Style for Table\n",
        "# Make it work with night & light mode\n",
        "# - Alternating rows\n",
        "# - th elements\n",
        "# - td elements\n",
        "css_style = '''\n",
        "<style>\n",
        "  html {\n",
        "    --td-font-color: black;\n",
        "    --font-color: black;\n",
        "    --background-color: #e0e0e0;\n",
        "  }\n",
        "  html[theme=dark] {\n",
        "    --td-font-color: white;\n",
        "    --font-color: black;\n",
        "    --background-color: #6688ff;\n",
        "  }\n",
        "  th {\n",
        "    background: #fbd44c;\n",
        "    color: var(--font-color);\n",
        "    font-size: 16px;\n",
        "    text-align: center;\n",
        "    font-weight: bold;\n",
        "  }\n",
        "  tr:nth-child(even) {\n",
        "    background-color: var(--background-color);\n",
        "    color: var(--font-color);\n",
        "  }\n",
        "  td {\n",
        "    font-size: 14px;\n",
        "    color: var(--td-font-color);\n",
        "  }\n",
        "</style>\n",
        "'''\n",
        "\n",
        "\n",
        "def run(sql_query):\n",
        "  df = sql_run(sql_query)\n",
        "\n",
        "  # Puts the scrollbar next to the DataFrame\n",
        "  display(HTML(css_style +\n",
        "               \"<div style='max-height: 500px; overflow: auto; width: fit-content; border-style: solid;\" +\n",
        "               \" border-width: 1px; border-color: #0139fe; font-family: GT Planar,Inter,Arial,sans-serif;'>\" +\n",
        "               df.style.render() +\n",
        "               \"</div>\"))"
      ],
      "metadata": {
        "id": "n-vdL9gWT2rm"
      },
      "execution_count": null,
      "outputs": []
    },
    {
      "cell_type": "markdown",
      "source": [
        "# **The Setting:**\n",
        "\n",
        "Your career at CoRise has continued to grow. As the complexity has increased in their database tracking course-related information, your role has expanded to include proactively looking for patterns in the data.\n",
        "\n",
        "You are storing information in an interrelated set of tables now, and you need to bring out your ace SQL skills to satisfy your data curiosity.\n",
        "\n",
        "We will be going through a series of analyses to identify avenues for growing the impact of the awesome courses that are coming out of CoRise. As before, we are focused on nps as the key metric to evaluate how our courses are being received by the learners. We want to continue to explore the possible correlation of various data elements with the nps."
      ],
      "metadata": {
        "id": "399KLP3Un1yc"
      }
    },
    {
      "cell_type": "markdown",
      "source": [
        "\n",
        "# **Schema:**\n",
        "\n",
        "As we discussed in the lessons, the `courses` table from Week 1 has been replaced with the five tables below:\n",
        "\n",
        "\n",
        "```\n",
        "create table course_info (\n",
        "course_id integer,\n",
        "course_name text,\n",
        "course_desc text,\n",
        "course_category text,\n",
        "course_level text\n",
        ");\n",
        "```\n",
        "\n",
        "```\n",
        "create table instructors (\n",
        "instructor_id integer,\n",
        "name text,\n",
        "affiliation text,\n",
        "teaching_experience integer\n",
        ");\n",
        "```\n",
        "\n",
        "```\n",
        "create table learners (\n",
        "learner_id integer,\n",
        "name text,\n",
        "affiliation text\n",
        ");\n",
        "```\n",
        "\n",
        "```\n",
        "create table course_run (\n",
        "course_run_id integer,\n",
        "course_id integer,\n",
        "instructor_id integer,\n",
        "start_date date,\n",
        "num_weeks integer,\n",
        "num_TAs integer,\n",
        "nps integer\n",
        ");\n",
        "```\n",
        "\n",
        "```\n",
        "create table course_registration_info (\n",
        "course_run_id integer,\n",
        "learner_id integer\n",
        ");\n",
        "```"
      ],
      "metadata": {
        "id": "3DJlXcRBpAQd"
      }
    },
    {
      "cell_type": "markdown",
      "source": [
        "# **Disclaimer**\n",
        "\n",
        "Any resemblance of the data in this table to anything real (other than the names and descriptions of courses) is entirely random (could have been my pseudo random generator or my own imagination, since it isn't easy to distinguish between the two :-), so do not stress yourself out trying to make sense of any categorization, such as why a course run might even overlap with another run and other such niceties)."
      ],
      "metadata": {
        "id": "pXsklbFABCaa"
      }
    },
    {
      "cell_type": "markdown",
      "source": [
        "# **Preamble**\n",
        "\n",
        "Let's begin by revisiting some queries that we did on the `courses` table last week, except this week you will likely have to combine multiple tables to answer those queries! The first three parts of this week's project are identical to the corresponding sections from last week. This will hopefully serve to contrast how the same English query translates to SQL depending on the schema (how normalized it is or isn't).\n",
        "\n",
        "Please take care to not use the `courses` table from last week in any of your queries. You don't need that table any longer - in fact the goal of this week's project is to work using the normalized schema described above. Although you may be able to get correct answers for some of the queries by using the old `courses` table, please ensure that you're using the new table names this week."
      ],
      "metadata": {
        "id": "6vDfuvmWZslc"
      }
    },
    {
      "cell_type": "markdown",
      "source": [
        "# **Part 1 - Digging into Machine Learning Courses:**\n",
        "\n",
        "\n",
        "\n",
        "You have heard from your boss that Machine Learning is a very important category for the CoRise business, and it would be very good to keep expanding the scope of the courses in this broad area. But first, we should understand reality as it is today. So, your logical next question:\n",
        "\n",
        "\n"
      ],
      "metadata": {
        "id": "0gQEqxGCKN6d"
      }
    },
    {
      "cell_type": "code",
      "source": [
        "### Question: q2_1_1\n",
        "### For the course category 'Machine Learning,'\n",
        "### how many courses have we run so far?\n",
        "### Output columns: cnt\n",
        "query = \"\"\"\n",
        "    SELECT count(*) as cnt FROM course_info join course_run\n",
        "    on (course_info.course_id = course_run.course_id)\n",
        "    WHERE course_category= 'Machine Learning';\n",
        "         \"\"\"\n",
        "\n",
        "run(query)\n",
        "check(q2_1_1 = query)\n",
        "\n"
      ],
      "metadata": {
        "id": "Oazg336EL7zH",
        "colab": {
          "base_uri": "https://localhost:8080/",
          "height": 104
        },
        "outputId": "09c5d65b-5374-44b7-f71e-8ca7e90e3957"
      },
      "execution_count": null,
      "outputs": [
        {
          "output_type": "display_data",
          "data": {
            "text/plain": [
              "<IPython.core.display.HTML object>"
            ],
            "text/html": [
              "\n",
              "<style>\n",
              "  html {\n",
              "    --td-font-color: black;\n",
              "    --font-color: black;\n",
              "    --background-color: #e0e0e0;\n",
              "  }\n",
              "  html[theme=dark] {\n",
              "    --td-font-color: white;\n",
              "    --font-color: black;\n",
              "    --background-color: #6688ff;\n",
              "  }\n",
              "  th {\n",
              "    background: #fbd44c;\n",
              "    color: var(--font-color);\n",
              "    font-size: 16px;\n",
              "    text-align: center;\n",
              "    font-weight: bold;\n",
              "  }\n",
              "  tr:nth-child(even) {\n",
              "    background-color: var(--background-color);\n",
              "    color: var(--font-color);\n",
              "  }\n",
              "  td {\n",
              "    font-size: 14px;\n",
              "    color: var(--td-font-color);\n",
              "  }\n",
              "</style>\n",
              "<div style='max-height: 500px; overflow: auto; width: fit-content; border-style: solid; border-width: 1px; border-color: #0139fe; font-family: GT Planar,Inter,Arial,sans-serif;'><style type=\"text/css\">\n",
              "</style>\n",
              "<table id=\"T_0bb1e_\">\n",
              "  <thead>\n",
              "    <tr>\n",
              "      <th class=\"blank level0\" >&nbsp;</th>\n",
              "      <th class=\"col_heading level0 col0\" >cnt</th>\n",
              "    </tr>\n",
              "  </thead>\n",
              "  <tbody>\n",
              "    <tr>\n",
              "      <th id=\"T_0bb1e_level0_row0\" class=\"row_heading level0 row0\" >0</th>\n",
              "      <td id=\"T_0bb1e_row0_col0\" class=\"data row0 col0\" >310</td>\n",
              "    </tr>\n",
              "  </tbody>\n",
              "</table>\n",
              "</div>"
            ]
          },
          "metadata": {}
        },
        {
          "output_type": "stream",
          "name": "stdout",
          "text": [
            "-------------------\n",
            "Your SQL query is correct!\n"
          ]
        }
      ]
    },
    {
      "cell_type": "markdown",
      "source": [
        "It's useful information to be able to see that we have run 310 courses so far. To dig deeper, you decide to look at how many courses we have run for each year to get an idea of that distribution."
      ],
      "metadata": {
        "id": "UHsB9YxhDI4x"
      }
    },
    {
      "cell_type": "code",
      "source": [
        "### Question: q2_1_2\n",
        "### For the course category 'Machine Learning,'\n",
        "### how many courses have we run so far for each calendar year?\n",
        "### Output Columns: year, count_by_year\n",
        "\n",
        "query = \"\"\"\n",
        "           SELECT strftime(\"%Y\", start_date) as year, count(course_category) as count_by_year FROM course_run join course_info\n",
        "    on (course_run.course_id = course_info.course_id)\n",
        "    WHERE course_category= 'Machine Learning'\n",
        "    GROUP BY year;\n",
        "\n",
        "         \"\"\"\n",
        "\n",
        "run(query)\n",
        "check(q2_1_2 = query)"
      ],
      "metadata": {
        "id": "olO-nbyADdDw",
        "colab": {
          "base_uri": "https://localhost:8080/",
          "height": 271
        },
        "outputId": "96521584-1abc-4d01-aa04-b318af7f22d4"
      },
      "execution_count": null,
      "outputs": [
        {
          "output_type": "display_data",
          "data": {
            "text/plain": [
              "<IPython.core.display.HTML object>"
            ],
            "text/html": [
              "\n",
              "<style>\n",
              "  html {\n",
              "    --td-font-color: black;\n",
              "    --font-color: black;\n",
              "    --background-color: #e0e0e0;\n",
              "  }\n",
              "  html[theme=dark] {\n",
              "    --td-font-color: white;\n",
              "    --font-color: black;\n",
              "    --background-color: #6688ff;\n",
              "  }\n",
              "  th {\n",
              "    background: #fbd44c;\n",
              "    color: var(--font-color);\n",
              "    font-size: 16px;\n",
              "    text-align: center;\n",
              "    font-weight: bold;\n",
              "  }\n",
              "  tr:nth-child(even) {\n",
              "    background-color: var(--background-color);\n",
              "    color: var(--font-color);\n",
              "  }\n",
              "  td {\n",
              "    font-size: 14px;\n",
              "    color: var(--td-font-color);\n",
              "  }\n",
              "</style>\n",
              "<div style='max-height: 500px; overflow: auto; width: fit-content; border-style: solid; border-width: 1px; border-color: #0139fe; font-family: GT Planar,Inter,Arial,sans-serif;'><style type=\"text/css\">\n",
              "</style>\n",
              "<table id=\"T_d2588_\">\n",
              "  <thead>\n",
              "    <tr>\n",
              "      <th class=\"blank level0\" >&nbsp;</th>\n",
              "      <th class=\"col_heading level0 col0\" >year</th>\n",
              "      <th class=\"col_heading level0 col1\" >count_by_year</th>\n",
              "    </tr>\n",
              "  </thead>\n",
              "  <tbody>\n",
              "    <tr>\n",
              "      <th id=\"T_d2588_level0_row0\" class=\"row_heading level0 row0\" >0</th>\n",
              "      <td id=\"T_d2588_row0_col0\" class=\"data row0 col0\" >2016</td>\n",
              "      <td id=\"T_d2588_row0_col1\" class=\"data row0 col1\" >35</td>\n",
              "    </tr>\n",
              "    <tr>\n",
              "      <th id=\"T_d2588_level0_row1\" class=\"row_heading level0 row1\" >1</th>\n",
              "      <td id=\"T_d2588_row1_col0\" class=\"data row1 col0\" >2017</td>\n",
              "      <td id=\"T_d2588_row1_col1\" class=\"data row1 col1\" >45</td>\n",
              "    </tr>\n",
              "    <tr>\n",
              "      <th id=\"T_d2588_level0_row2\" class=\"row_heading level0 row2\" >2</th>\n",
              "      <td id=\"T_d2588_row2_col0\" class=\"data row2 col0\" >2018</td>\n",
              "      <td id=\"T_d2588_row2_col1\" class=\"data row2 col1\" >37</td>\n",
              "    </tr>\n",
              "    <tr>\n",
              "      <th id=\"T_d2588_level0_row3\" class=\"row_heading level0 row3\" >3</th>\n",
              "      <td id=\"T_d2588_row3_col0\" class=\"data row3 col0\" >2019</td>\n",
              "      <td id=\"T_d2588_row3_col1\" class=\"data row3 col1\" >39</td>\n",
              "    </tr>\n",
              "    <tr>\n",
              "      <th id=\"T_d2588_level0_row4\" class=\"row_heading level0 row4\" >4</th>\n",
              "      <td id=\"T_d2588_row4_col0\" class=\"data row4 col0\" >2020</td>\n",
              "      <td id=\"T_d2588_row4_col1\" class=\"data row4 col1\" >51</td>\n",
              "    </tr>\n",
              "    <tr>\n",
              "      <th id=\"T_d2588_level0_row5\" class=\"row_heading level0 row5\" >5</th>\n",
              "      <td id=\"T_d2588_row5_col0\" class=\"data row5 col0\" >2021</td>\n",
              "      <td id=\"T_d2588_row5_col1\" class=\"data row5 col1\" >38</td>\n",
              "    </tr>\n",
              "    <tr>\n",
              "      <th id=\"T_d2588_level0_row6\" class=\"row_heading level0 row6\" >6</th>\n",
              "      <td id=\"T_d2588_row6_col0\" class=\"data row6 col0\" >2022</td>\n",
              "      <td id=\"T_d2588_row6_col1\" class=\"data row6 col1\" >33</td>\n",
              "    </tr>\n",
              "    <tr>\n",
              "      <th id=\"T_d2588_level0_row7\" class=\"row_heading level0 row7\" >7</th>\n",
              "      <td id=\"T_d2588_row7_col0\" class=\"data row7 col0\" >2023</td>\n",
              "      <td id=\"T_d2588_row7_col1\" class=\"data row7 col1\" >32</td>\n",
              "    </tr>\n",
              "  </tbody>\n",
              "</table>\n",
              "</div>"
            ]
          },
          "metadata": {}
        },
        {
          "output_type": "stream",
          "name": "stdout",
          "text": [
            "-------------------\n",
            "Your SQL query is correct!\n"
          ]
        }
      ]
    },
    {
      "cell_type": "markdown",
      "source": [
        "Hmm... Anecdotally you seem to recollect that we are running 60+ courses a year that can be termed 'Machine Learning.' The general talk around the water cooler is that we seem to have 5 ML courses a month. We would need to be running quite a few more courses to get to 60 per year. One thing that comes to your notice is that there are perhaps courses that are not filed under the 'Machine Learning' category but could still be considered 'Machine Learning.' You decide to look for some words in the name and description to potentially infer other courses that you could consider 'Machine Learning.'"
      ],
      "metadata": {
        "id": "FrUR3V_8D7gQ"
      }
    },
    {
      "cell_type": "code",
      "source": [
        "### Question: q2_1_3\n",
        "### Retrieve distinct combinations of name, category and descriptions of courses\n",
        "### that contain one of the words 'ml' or 'learning' or 'models'\n",
        "### We want the match to be case-insensitive.\n",
        "### Note that in general this need not be the same set of courses\n",
        "### as ones that belong to the category 'Machine Learning'.\n",
        "### Output Columns: course_name, course_category, course_desc\n",
        "\n",
        "query = \"\"\"\n",
        "                SELECT DISTINCT course_name, course_category, course_desc  FROM course_info join course_run\n",
        "                    on (course_info.course_id = course_run.course_id)\n",
        "      WHERE lower(course_name) LIKE '%ML%'OR  lower(course_name)\n",
        "       LIKE '%models%' or lower(course_name) LIKE '%learning%' or lower(course_category) LIKE '%Machine Learning%' OR lower(course_desc) LIKE '%ML%' or lower(course_desc) LIKE '%models%' or lower(course_desc) LIKE '%learning%';\n",
        "\n",
        "\n",
        "         \"\"\"\n",
        "\n",
        "run(query)\n",
        "check(q2_1_3 = query)"
      ],
      "metadata": {
        "id": "LMwc_6ahP133",
        "colab": {
          "base_uri": "https://localhost:8080/",
          "height": 555
        },
        "outputId": "1381f6e3-d37e-4db7-bf9e-7aeeca80bb2b"
      },
      "execution_count": null,
      "outputs": [
        {
          "output_type": "display_data",
          "data": {
            "text/plain": [
              "<IPython.core.display.HTML object>"
            ],
            "text/html": [
              "\n",
              "<style>\n",
              "  html {\n",
              "    --td-font-color: black;\n",
              "    --font-color: black;\n",
              "    --background-color: #e0e0e0;\n",
              "  }\n",
              "  html[theme=dark] {\n",
              "    --td-font-color: white;\n",
              "    --font-color: black;\n",
              "    --background-color: #6688ff;\n",
              "  }\n",
              "  th {\n",
              "    background: #fbd44c;\n",
              "    color: var(--font-color);\n",
              "    font-size: 16px;\n",
              "    text-align: center;\n",
              "    font-weight: bold;\n",
              "  }\n",
              "  tr:nth-child(even) {\n",
              "    background-color: var(--background-color);\n",
              "    color: var(--font-color);\n",
              "  }\n",
              "  td {\n",
              "    font-size: 14px;\n",
              "    color: var(--td-font-color);\n",
              "  }\n",
              "</style>\n",
              "<div style='max-height: 500px; overflow: auto; width: fit-content; border-style: solid; border-width: 1px; border-color: #0139fe; font-family: GT Planar,Inter,Arial,sans-serif;'><style type=\"text/css\">\n",
              "</style>\n",
              "<table id=\"T_8aec6_\">\n",
              "  <thead>\n",
              "    <tr>\n",
              "      <th class=\"blank level0\" >&nbsp;</th>\n",
              "      <th class=\"col_heading level0 col0\" >course_name</th>\n",
              "      <th class=\"col_heading level0 col1\" >course_category</th>\n",
              "      <th class=\"col_heading level0 col2\" >course_desc</th>\n",
              "    </tr>\n",
              "  </thead>\n",
              "  <tbody>\n",
              "    <tr>\n",
              "      <th id=\"T_8aec6_level0_row0\" class=\"row_heading level0 row0\" >0</th>\n",
              "      <td id=\"T_8aec6_row0_col0\" class=\"data row0 col0\" >Spoken Language Processing</td>\n",
              "      <td id=\"T_8aec6_row0_col1\" class=\"data row0 col1\" >Language Processing</td>\n",
              "      <td id=\"T_8aec6_row0_col2\" class=\"data row0 col2\" >Learn to design and build voice assistant or voice cloning systems;using available APIs and adjustable pre-trained models;as well as creating them from scratch in PyTorch. You will learn solid audio processing fundamentals combined with the most important advances in automatic speech recognition and speech synthesis methods.</td>\n",
              "    </tr>\n",
              "    <tr>\n",
              "      <th id=\"T_8aec6_level0_row1\" class=\"row_heading level0 row1\" >1</th>\n",
              "      <td id=\"T_8aec6_row1_col0\" class=\"data row1 col0\" >Social Media Mining</td>\n",
              "      <td id=\"T_8aec6_row1_col1\" class=\"data row1 col1\" >Language Processing</td>\n",
              "      <td id=\"T_8aec6_row1_col2\" class=\"data row1 col2\" >Collect;analyze;and present insights from social media data — including the Twitter API — while learning concepts of natural language processing and graph analytics.</td>\n",
              "    </tr>\n",
              "    <tr>\n",
              "      <th id=\"T_8aec6_level0_row2\" class=\"row_heading level0 row2\" >2</th>\n",
              "      <td id=\"T_8aec6_row2_col0\" class=\"data row2 col0\" >How to Implement ML Papers</td>\n",
              "      <td id=\"T_8aec6_row2_col1\" class=\"data row2 col1\" >Machine Learning</td>\n",
              "      <td id=\"T_8aec6_row2_col2\" class=\"data row2 col2\" >Learn how to implement the proposed algorithms;models;and techniques from ML papers each week;while learning tips and tricks on debugging the implementation efforts and how to reproduce results in your own applications.</td>\n",
              "    </tr>\n",
              "    <tr>\n",
              "      <th id=\"T_8aec6_level0_row3\" class=\"row_heading level0 row3\" >3</th>\n",
              "      <td id=\"T_8aec6_row3_col0\" class=\"data row3 col0\" >Python for Data Science</td>\n",
              "      <td id=\"T_8aec6_row3_col1\" class=\"data row3 col1\" >Machine Learning</td>\n",
              "      <td id=\"T_8aec6_row3_col2\" class=\"data row3 col2\" >Build projects like computing your own heart rate from an ECG;building a Shazam music identifier clone;and more while learning how to use core python libraries like Numpy;Scipy;Scikit;and Matplotlib.</td>\n",
              "    </tr>\n",
              "    <tr>\n",
              "      <th id=\"T_8aec6_level0_row4\" class=\"row_heading level0 row4\" >4</th>\n",
              "      <td id=\"T_8aec6_row4_col0\" class=\"data row4 col0\" >MLOps: From Models to Production</td>\n",
              "      <td id=\"T_8aec6_row4_col1\" class=\"data row4 col1\" >Machine Learning</td>\n",
              "      <td id=\"T_8aec6_row4_col2\" class=\"data row4 col2\" >Acquire the skills to build effective real-world ML systems (bootstrapping datasets;improving label quality;experimentation;model evaluation;deployment and observability) with hands-on projects. This course will help you bridge the gap between state-of-the-art ML modeling;and building real-world ML systems.</td>\n",
              "    </tr>\n",
              "    <tr>\n",
              "      <th id=\"T_8aec6_level0_row5\" class=\"row_heading level0 row5\" >5</th>\n",
              "      <td id=\"T_8aec6_row5_col0\" class=\"data row5 col0\" >Applied Machine Learning</td>\n",
              "      <td id=\"T_8aec6_row5_col1\" class=\"data row5 col1\" >Machine Learning</td>\n",
              "      <td id=\"T_8aec6_row5_col2\" class=\"data row5 col2\" >Design;build;and debug machine learning models for classification and regression tasks using a variety of datasets with Python (Numpy;Scikit;Pyplot). Learn best practices to plan and execute ML development projects whether large or small.</td>\n",
              "    </tr>\n",
              "    <tr>\n",
              "      <th id=\"T_8aec6_level0_row6\" class=\"row_heading level0 row6\" >6</th>\n",
              "      <td id=\"T_8aec6_row6_col0\" class=\"data row6 col0\" >Search with Machine Learning</td>\n",
              "      <td id=\"T_8aec6_row6_col1\" class=\"data row6 col1\" >Machine Learning</td>\n",
              "      <td id=\"T_8aec6_row6_col2\" class=\"data row6 col2\" >We have designed this course to cover the fundamentals of integrating machine learning and natural language processing techniques into search engines. We will dive into using machine learning for ranking;content understanding;and query understanding;along with how to use embeddings;dense vectors and deep learning to improve retrieval and ranking.</td>\n",
              "    </tr>\n",
              "    <tr>\n",
              "      <th id=\"T_8aec6_level0_row7\" class=\"row_heading level0 row7\" >7</th>\n",
              "      <td id=\"T_8aec6_row7_col0\" class=\"data row7 col0\" >Natural Language Processing</td>\n",
              "      <td id=\"T_8aec6_row7_col1\" class=\"data row7 col1\" >Language Processing</td>\n",
              "      <td id=\"T_8aec6_row7_col2\" class=\"data row7 col2\" >Build your own auto-compose tool and other projects while learning key NLP concepts such as BERT;entity recognition;intent classification;spacy;and Transformer models powering search engines like Google or voice assistants like Google Home or Amazon Alexa.</td>\n",
              "    </tr>\n",
              "    <tr>\n",
              "      <th id=\"T_8aec6_level0_row8\" class=\"row_heading level0 row8\" >8</th>\n",
              "      <td id=\"T_8aec6_row8_col0\" class=\"data row8 col0\" >Fundamentals of Data Modeling</td>\n",
              "      <td id=\"T_8aec6_row8_col1\" class=\"data row8 col1\" >Data Engineering</td>\n",
              "      <td id=\"T_8aec6_row8_col2\" class=\"data row8 col2\" >This course provides an introduction to the fundamentals of data modeling for modern data warehouses. We use the Kimball dimensional model to guide us;but that does not mean this class is all theory! We have designed this course so you will learn the theory behind data modeling (normalization / denormalization;star schemas;fact and dimension tables) and you will build actual models using real world data. We will use plain SQL so you can do modeling whether you only have access to SQL or you are using a tool like dbt. By the end of this course;you will have a deep understanding of dimensional modeling;and you will have built one from scratch.</td>\n",
              "    </tr>\n",
              "    <tr>\n",
              "      <th id=\"T_8aec6_level0_row9\" class=\"row_heading level0 row9\" >9</th>\n",
              "      <td id=\"T_8aec6_row9_col0\" class=\"data row9 col0\" >Building Computer Vision Applications</td>\n",
              "      <td id=\"T_8aec6_row9_col1\" class=\"data row9 col1\" >Machine Learning</td>\n",
              "      <td id=\"T_8aec6_row9_col2\" class=\"data row9 col2\" >This course provides an introduction to machine learning for computer vision with a focus on practical applications relevant to industry teams. In this course;we will “reverse-engineer” a number of applications;such as traffic flow analysis;digital medicine;optical character recognition;and video analytics.</td>\n",
              "    </tr>\n",
              "    <tr>\n",
              "      <th id=\"T_8aec6_level0_row10\" class=\"row_heading level0 row10\" >10</th>\n",
              "      <td id=\"T_8aec6_row10_col0\" class=\"data row10 col0\" >Personalized Recommendations at Scale</td>\n",
              "      <td id=\"T_8aec6_row10_col1\" class=\"data row10 col1\" >Machine Learning</td>\n",
              "      <td id=\"T_8aec6_row10_col2\" class=\"data row10 col2\" >Recommender systems undertake the challenging work to surface relevant content to users given millions of possible choices. In this course;we provide a holistic overview of Machine Learning modeling choices that go into developing and deploying multi-stage recommenders capable of serving recommendations from hundreds of million content choices to multiple hundred million users. The course goes into algorithmic models that power the various stages of the recommender;including the candidate generator;core ranker;user representation learning modules;and offline and online evaluation modules. The course ends with case studies;lessons;and practical considerations from deployed systems powering over 400 million users.</td>\n",
              "    </tr>\n",
              "    <tr>\n",
              "      <th id=\"T_8aec6_level0_row11\" class=\"row_heading level0 row11\" >11</th>\n",
              "      <td id=\"T_8aec6_row11_col0\" class=\"data row11 col0\" >Deep Learning Essentials</td>\n",
              "      <td id=\"T_8aec6_row11_col1\" class=\"data row11 col1\" >Deep Learning</td>\n",
              "      <td id=\"T_8aec6_row11_col2\" class=\"data row11 col2\" >Learn the foundations of deep learning and practice with training and implementing neural networks in Pytorch while covering topics including convolutional neural networks (CNNs);transformers;and generative adversarial networks (GANs).</td>\n",
              "    </tr>\n",
              "    <tr>\n",
              "      <th id=\"T_8aec6_level0_row12\" class=\"row_heading level0 row12\" >12</th>\n",
              "      <td id=\"T_8aec6_row12_col0\" class=\"data row12 col0\" >Data Centric Deep Learning</td>\n",
              "      <td id=\"T_8aec6_row12_col1\" class=\"data row12 col1\" >Deep Learning</td>\n",
              "      <td id=\"T_8aec6_row12_col2\" class=\"data row12 col2\" >A trope we often hear is that data is at the heart of deep learning. But how exactly do you manage;improve;and repair deep learning models with data? This course teaches students applied techniques to measure and improve data quality;deep learning infrastructure to do continuous testing and deployment;iterative annotation pipelines;and techniques to respond to distribution shift and adversarial examples. Projects will be grounded in practical challenges spanning computer vision and natural language processing.</td>\n",
              "    </tr>\n",
              "    <tr>\n",
              "      <th id=\"T_8aec6_level0_row13\" class=\"row_heading level0 row13\" >13</th>\n",
              "      <td id=\"T_8aec6_row13_col0\" class=\"data row13 col0\" >Analytics Engineering with dbt</td>\n",
              "      <td id=\"T_8aec6_row13_col1\" class=\"data row13 col1\" >Data Engineering</td>\n",
              "      <td id=\"T_8aec6_row13_col2\" class=\"data row13 col2\" >Learn the modern analytics stack and best practices as an analytics engineer by using dbt with e-commerce data. Build data models to address real-world strategic questions.</td>\n",
              "    </tr>\n",
              "    <tr>\n",
              "      <th id=\"T_8aec6_level0_row14\" class=\"row_heading level0 row14\" >14</th>\n",
              "      <td id=\"T_8aec6_row14_col0\" class=\"data row14 col0\" >Real Time Machine Learning</td>\n",
              "      <td id=\"T_8aec6_row14_col1\" class=\"data row14 col1\" >Machine Learning</td>\n",
              "      <td id=\"T_8aec6_row14_col2\" class=\"data row14 col2\" >Stream processing enables companies in every industry to drive intelligence and action in real-time by processing data as it comes in from sources such as IoT devices;customer interactions and order transactions;social media;etc.  Use cases for stream processing can broadly be categorized into four areas: streaming analytics;monitoring;leaderboard;and real-time predictions.  This course will cover stream processing paradigm;and streaming processing system architecture. Each week;students will build stream processing applications using widely adopted stream processing technologies;such as Apache Kafka;Apache Spark and Apache Flink.  </td>\n",
              "    </tr>\n",
              "  </tbody>\n",
              "</table>\n",
              "</div>"
            ]
          },
          "metadata": {}
        },
        {
          "output_type": "stream",
          "name": "stdout",
          "text": [
            "-------------------\n",
            "Your SQL query is correct!\n"
          ]
        }
      ]
    },
    {
      "cell_type": "markdown",
      "source": [
        "You found a few more courses that are in the 'Deep Learning' category and in the 'Language Processing' category that could be considered 'Machine Learning,' but you also found other courses that refer to data models under the 'Data Engineering' category. You decide to cross-check what would happen if you were to also count the courses run per year in the categories 'Deep Learning' and 'Language Processing.'"
      ],
      "metadata": {
        "id": "SSD8uMNLepby"
      }
    },
    {
      "cell_type": "code",
      "source": [
        "### Question: q2_1_4\n",
        "### For the course category 'Machine Learning', 'Deep Learning' & 'Language Processing'\n",
        "### how many courses have we run so far for each calendar year?\n",
        "### Output columns: year, count_by_year\n",
        "\n",
        "query = \"\"\"\n",
        "           SELECT strftime(\"%Y\", start_date) as year, count(course_category) as count_by_year FROM course_run join course_info\n",
        "    on (course_run.course_id = course_info.course_id)\n",
        "    WHERE course_category= 'Machine Learning' or  course_category='Deep Learning' or course_category= 'Language Processing'\n",
        "    GROUP BY year;\n",
        "        \"\"\"\n",
        "\n",
        "run(query)\n",
        "check(q2_1_4 = query)"
      ],
      "metadata": {
        "id": "0HKvaVMsP1gT",
        "colab": {
          "base_uri": "https://localhost:8080/",
          "height": 271
        },
        "outputId": "43ec97b4-4c99-4e30-cfd1-04a60285b17f"
      },
      "execution_count": null,
      "outputs": [
        {
          "output_type": "display_data",
          "data": {
            "text/plain": [
              "<IPython.core.display.HTML object>"
            ],
            "text/html": [
              "\n",
              "<style>\n",
              "  html {\n",
              "    --td-font-color: black;\n",
              "    --font-color: black;\n",
              "    --background-color: #e0e0e0;\n",
              "  }\n",
              "  html[theme=dark] {\n",
              "    --td-font-color: white;\n",
              "    --font-color: black;\n",
              "    --background-color: #6688ff;\n",
              "  }\n",
              "  th {\n",
              "    background: #fbd44c;\n",
              "    color: var(--font-color);\n",
              "    font-size: 16px;\n",
              "    text-align: center;\n",
              "    font-weight: bold;\n",
              "  }\n",
              "  tr:nth-child(even) {\n",
              "    background-color: var(--background-color);\n",
              "    color: var(--font-color);\n",
              "  }\n",
              "  td {\n",
              "    font-size: 14px;\n",
              "    color: var(--td-font-color);\n",
              "  }\n",
              "</style>\n",
              "<div style='max-height: 500px; overflow: auto; width: fit-content; border-style: solid; border-width: 1px; border-color: #0139fe; font-family: GT Planar,Inter,Arial,sans-serif;'><style type=\"text/css\">\n",
              "</style>\n",
              "<table id=\"T_84491_\">\n",
              "  <thead>\n",
              "    <tr>\n",
              "      <th class=\"blank level0\" >&nbsp;</th>\n",
              "      <th class=\"col_heading level0 col0\" >year</th>\n",
              "      <th class=\"col_heading level0 col1\" >count_by_year</th>\n",
              "    </tr>\n",
              "  </thead>\n",
              "  <tbody>\n",
              "    <tr>\n",
              "      <th id=\"T_84491_level0_row0\" class=\"row_heading level0 row0\" >0</th>\n",
              "      <td id=\"T_84491_row0_col0\" class=\"data row0 col0\" >2016</td>\n",
              "      <td id=\"T_84491_row0_col1\" class=\"data row0 col1\" >60</td>\n",
              "    </tr>\n",
              "    <tr>\n",
              "      <th id=\"T_84491_level0_row1\" class=\"row_heading level0 row1\" >1</th>\n",
              "      <td id=\"T_84491_row1_col0\" class=\"data row1 col0\" >2017</td>\n",
              "      <td id=\"T_84491_row1_col1\" class=\"data row1 col1\" >73</td>\n",
              "    </tr>\n",
              "    <tr>\n",
              "      <th id=\"T_84491_level0_row2\" class=\"row_heading level0 row2\" >2</th>\n",
              "      <td id=\"T_84491_row2_col0\" class=\"data row2 col0\" >2018</td>\n",
              "      <td id=\"T_84491_row2_col1\" class=\"data row2 col1\" >61</td>\n",
              "    </tr>\n",
              "    <tr>\n",
              "      <th id=\"T_84491_level0_row3\" class=\"row_heading level0 row3\" >3</th>\n",
              "      <td id=\"T_84491_row3_col0\" class=\"data row3 col0\" >2019</td>\n",
              "      <td id=\"T_84491_row3_col1\" class=\"data row3 col1\" >76</td>\n",
              "    </tr>\n",
              "    <tr>\n",
              "      <th id=\"T_84491_level0_row4\" class=\"row_heading level0 row4\" >4</th>\n",
              "      <td id=\"T_84491_row4_col0\" class=\"data row4 col0\" >2020</td>\n",
              "      <td id=\"T_84491_row4_col1\" class=\"data row4 col1\" >80</td>\n",
              "    </tr>\n",
              "    <tr>\n",
              "      <th id=\"T_84491_level0_row5\" class=\"row_heading level0 row5\" >5</th>\n",
              "      <td id=\"T_84491_row5_col0\" class=\"data row5 col0\" >2021</td>\n",
              "      <td id=\"T_84491_row5_col1\" class=\"data row5 col1\" >65</td>\n",
              "    </tr>\n",
              "    <tr>\n",
              "      <th id=\"T_84491_level0_row6\" class=\"row_heading level0 row6\" >6</th>\n",
              "      <td id=\"T_84491_row6_col0\" class=\"data row6 col0\" >2022</td>\n",
              "      <td id=\"T_84491_row6_col1\" class=\"data row6 col1\" >57</td>\n",
              "    </tr>\n",
              "    <tr>\n",
              "      <th id=\"T_84491_level0_row7\" class=\"row_heading level0 row7\" >7</th>\n",
              "      <td id=\"T_84491_row7_col0\" class=\"data row7 col0\" >2023</td>\n",
              "      <td id=\"T_84491_row7_col1\" class=\"data row7 col1\" >63</td>\n",
              "    </tr>\n",
              "  </tbody>\n",
              "</table>\n",
              "</div>"
            ]
          },
          "metadata": {}
        },
        {
          "output_type": "stream",
          "name": "stdout",
          "text": [
            "-------------------\n",
            "Your SQL query is correct!\n"
          ]
        }
      ]
    },
    {
      "cell_type": "markdown",
      "source": [
        "That seems to align better with the anecdotal water cooler conversations. The head of content is happy that you have been able to paint a good picture of current reality and is now off trying to figure out what new courses to add and what instructors they need to engage. But your life as an analyst continues. The CEO has put together a special ops commando team called the 'COVID' impact team. Of course, you are part of this team as the ace analyst in CoRise. Off we go!"
      ],
      "metadata": {
        "id": "SNhRAQW5VVz0"
      }
    },
    {
      "cell_type": "markdown",
      "source": [
        "# **Part 2 - COVID Impact**"
      ],
      "metadata": {
        "id": "vClaDS34WKg4"
      }
    },
    {
      "cell_type": "markdown",
      "source": [
        "As mentioned before, the CEO has put together a special ops commando team called the 'COVID' impact team which includes you as the star analyst. No one is sure if the courses were impacted by COVID as it has been a while. (You are in 2024 and the world has almost forgotten COVID (positive dreams are good for us 😀)). You suggest that you will mine the data and see if there are any quantitative differences between 2020 and other years.  \n",
        "\n",
        "As you know by now, we are guided by nps quite a bit, as it is a great measure of how the course was perceived by the participants. So the first thing is to see if there is any substantial difference either in the total quantity of the courses or the average nps of the courses.\n"
      ],
      "metadata": {
        "id": "wDTHxF5vMEKp"
      }
    },
    {
      "cell_type": "code",
      "source": [
        "### Question: q2_2_1\n",
        "### Print the number of courses run per year.\n",
        "### Output columns: year, count_by_year\n",
        "query = \"\"\"\n",
        "           SELECT strftime(\"%Y\", start_date) as year, count(course_name) as count_by_year FROM course_info join course_run\n",
        "    on (course_info.course_id = course_run.course_id)\n",
        "    GROUP BY year;\n",
        "        \"\"\"\n",
        "\n",
        "run(query)\n",
        "check(q2_2_1 = query)"
      ],
      "metadata": {
        "id": "FR9FMaj72PSl",
        "colab": {
          "base_uri": "https://localhost:8080/",
          "height": 271
        },
        "outputId": "041e2c40-99c9-46ae-b082-fe430b413711"
      },
      "execution_count": null,
      "outputs": [
        {
          "output_type": "display_data",
          "data": {
            "text/plain": [
              "<IPython.core.display.HTML object>"
            ],
            "text/html": [
              "\n",
              "<style>\n",
              "  html {\n",
              "    --td-font-color: black;\n",
              "    --font-color: black;\n",
              "    --background-color: #e0e0e0;\n",
              "  }\n",
              "  html[theme=dark] {\n",
              "    --td-font-color: white;\n",
              "    --font-color: black;\n",
              "    --background-color: #6688ff;\n",
              "  }\n",
              "  th {\n",
              "    background: #fbd44c;\n",
              "    color: var(--font-color);\n",
              "    font-size: 16px;\n",
              "    text-align: center;\n",
              "    font-weight: bold;\n",
              "  }\n",
              "  tr:nth-child(even) {\n",
              "    background-color: var(--background-color);\n",
              "    color: var(--font-color);\n",
              "  }\n",
              "  td {\n",
              "    font-size: 14px;\n",
              "    color: var(--td-font-color);\n",
              "  }\n",
              "</style>\n",
              "<div style='max-height: 500px; overflow: auto; width: fit-content; border-style: solid; border-width: 1px; border-color: #0139fe; font-family: GT Planar,Inter,Arial,sans-serif;'><style type=\"text/css\">\n",
              "</style>\n",
              "<table id=\"T_a3ee7_\">\n",
              "  <thead>\n",
              "    <tr>\n",
              "      <th class=\"blank level0\" >&nbsp;</th>\n",
              "      <th class=\"col_heading level0 col0\" >year</th>\n",
              "      <th class=\"col_heading level0 col1\" >count_by_year</th>\n",
              "    </tr>\n",
              "  </thead>\n",
              "  <tbody>\n",
              "    <tr>\n",
              "      <th id=\"T_a3ee7_level0_row0\" class=\"row_heading level0 row0\" >0</th>\n",
              "      <td id=\"T_a3ee7_row0_col0\" class=\"data row0 col0\" >2016</td>\n",
              "      <td id=\"T_a3ee7_row0_col1\" class=\"data row0 col1\" >129</td>\n",
              "    </tr>\n",
              "    <tr>\n",
              "      <th id=\"T_a3ee7_level0_row1\" class=\"row_heading level0 row1\" >1</th>\n",
              "      <td id=\"T_a3ee7_row1_col0\" class=\"data row1 col0\" >2017</td>\n",
              "      <td id=\"T_a3ee7_row1_col1\" class=\"data row1 col1\" >118</td>\n",
              "    </tr>\n",
              "    <tr>\n",
              "      <th id=\"T_a3ee7_level0_row2\" class=\"row_heading level0 row2\" >2</th>\n",
              "      <td id=\"T_a3ee7_row2_col0\" class=\"data row2 col0\" >2018</td>\n",
              "      <td id=\"T_a3ee7_row2_col1\" class=\"data row2 col1\" >128</td>\n",
              "    </tr>\n",
              "    <tr>\n",
              "      <th id=\"T_a3ee7_level0_row3\" class=\"row_heading level0 row3\" >3</th>\n",
              "      <td id=\"T_a3ee7_row3_col0\" class=\"data row3 col0\" >2019</td>\n",
              "      <td id=\"T_a3ee7_row3_col1\" class=\"data row3 col1\" >134</td>\n",
              "    </tr>\n",
              "    <tr>\n",
              "      <th id=\"T_a3ee7_level0_row4\" class=\"row_heading level0 row4\" >4</th>\n",
              "      <td id=\"T_a3ee7_row4_col0\" class=\"data row4 col0\" >2020</td>\n",
              "      <td id=\"T_a3ee7_row4_col1\" class=\"data row4 col1\" >140</td>\n",
              "    </tr>\n",
              "    <tr>\n",
              "      <th id=\"T_a3ee7_level0_row5\" class=\"row_heading level0 row5\" >5</th>\n",
              "      <td id=\"T_a3ee7_row5_col0\" class=\"data row5 col0\" >2021</td>\n",
              "      <td id=\"T_a3ee7_row5_col1\" class=\"data row5 col1\" >127</td>\n",
              "    </tr>\n",
              "    <tr>\n",
              "      <th id=\"T_a3ee7_level0_row6\" class=\"row_heading level0 row6\" >6</th>\n",
              "      <td id=\"T_a3ee7_row6_col0\" class=\"data row6 col0\" >2022</td>\n",
              "      <td id=\"T_a3ee7_row6_col1\" class=\"data row6 col1\" >108</td>\n",
              "    </tr>\n",
              "    <tr>\n",
              "      <th id=\"T_a3ee7_level0_row7\" class=\"row_heading level0 row7\" >7</th>\n",
              "      <td id=\"T_a3ee7_row7_col0\" class=\"data row7 col0\" >2023</td>\n",
              "      <td id=\"T_a3ee7_row7_col1\" class=\"data row7 col1\" >115</td>\n",
              "    </tr>\n",
              "  </tbody>\n",
              "</table>\n",
              "</div>"
            ]
          },
          "metadata": {}
        },
        {
          "output_type": "stream",
          "name": "stdout",
          "text": [
            "-------------------\n",
            "Your SQL query is correct!\n"
          ]
        }
      ]
    },
    {
      "cell_type": "markdown",
      "source": [
        "That's interesting. The number of courses conducted doesn't seem to have been much lower in 2020. If anything, it is on the higher side. So somehow COVID did not impact the number of courses. Let's look at the average nps next and contrast 2020 with the other years."
      ],
      "metadata": {
        "id": "fdXS4E9K2_e3"
      }
    },
    {
      "cell_type": "code",
      "source": [
        "### Question: q2_2_2\n",
        "### Print a report with two columns titled covid_nps and rest_nps.\n",
        "### 2020_nps will have the average of the nps of courses that started in 2020 and\n",
        "### rest_nps will have the average of the nps of courses that started in other years.\n",
        "### Output columns: covid_nps, rest_nps\n",
        "query = \"\"\"\n",
        "      select\n",
        "avg(case when strftime(\"%Y\",start_date) = '2020' then nps END) as  covid_nps,\n",
        "avg(case when strftime(\"%Y\",start_date) != '2020' then nps END) as rest_nps\n",
        "from  course_info join course_run\n",
        "on (course_info.course_id = course_run.course_id)\n",
        "        \"\"\"\n",
        "\n",
        "run(query)\n",
        "check(q2_2_2 = query)"
      ],
      "metadata": {
        "id": "8kQa86J34bW2",
        "colab": {
          "base_uri": "https://localhost:8080/",
          "height": 104
        },
        "outputId": "4b29a830-0b3e-4aea-f804-af476fcf348f"
      },
      "execution_count": null,
      "outputs": [
        {
          "output_type": "display_data",
          "data": {
            "text/plain": [
              "<IPython.core.display.HTML object>"
            ],
            "text/html": [
              "\n",
              "<style>\n",
              "  html {\n",
              "    --td-font-color: black;\n",
              "    --font-color: black;\n",
              "    --background-color: #e0e0e0;\n",
              "  }\n",
              "  html[theme=dark] {\n",
              "    --td-font-color: white;\n",
              "    --font-color: black;\n",
              "    --background-color: #6688ff;\n",
              "  }\n",
              "  th {\n",
              "    background: #fbd44c;\n",
              "    color: var(--font-color);\n",
              "    font-size: 16px;\n",
              "    text-align: center;\n",
              "    font-weight: bold;\n",
              "  }\n",
              "  tr:nth-child(even) {\n",
              "    background-color: var(--background-color);\n",
              "    color: var(--font-color);\n",
              "  }\n",
              "  td {\n",
              "    font-size: 14px;\n",
              "    color: var(--td-font-color);\n",
              "  }\n",
              "</style>\n",
              "<div style='max-height: 500px; overflow: auto; width: fit-content; border-style: solid; border-width: 1px; border-color: #0139fe; font-family: GT Planar,Inter,Arial,sans-serif;'><style type=\"text/css\">\n",
              "</style>\n",
              "<table id=\"T_4f8d5_\">\n",
              "  <thead>\n",
              "    <tr>\n",
              "      <th class=\"blank level0\" >&nbsp;</th>\n",
              "      <th class=\"col_heading level0 col0\" >covid_nps</th>\n",
              "      <th class=\"col_heading level0 col1\" >rest_nps</th>\n",
              "    </tr>\n",
              "  </thead>\n",
              "  <tbody>\n",
              "    <tr>\n",
              "      <th id=\"T_4f8d5_level0_row0\" class=\"row_heading level0 row0\" >0</th>\n",
              "      <td id=\"T_4f8d5_row0_col0\" class=\"data row0 col0\" >65.89</td>\n",
              "      <td id=\"T_4f8d5_row0_col1\" class=\"data row0 col1\" >75.75</td>\n",
              "    </tr>\n",
              "  </tbody>\n",
              "</table>\n",
              "</div>"
            ]
          },
          "metadata": {}
        },
        {
          "output_type": "stream",
          "name": "stdout",
          "text": [
            "-------------------\n",
            "Your SQL query is correct!\n"
          ]
        }
      ]
    },
    {
      "cell_type": "markdown",
      "source": [
        "Wow! Thats's a clear drop in the average nps in 2020 compared to the average nps of other years. The statistician in you wonders if there are other years where the nps is low and is compensated for some other years where nps is high - thus 2020 may not be an exception. Let's quickly cross-validate that thought!"
      ],
      "metadata": {
        "id": "k30QE1jQyIZC"
      }
    },
    {
      "cell_type": "code",
      "source": [
        "### Question: q2_2_3\n",
        "### For each year, print the year and the average nps of the courses that started that year.\n",
        "### Output columns: year, avg(nps)\n",
        "\n",
        "query = \"\"\"\n",
        "select   strftime(\"%Y\",start_date) as year, avg(nps)\n",
        "from  course_info join course_run\n",
        "on (course_info.course_id = course_run.course_id)\n",
        "GROUP BY year\n",
        "        \"\"\"\n",
        "\n",
        "run(query)\n",
        "check(q2_2_3 = query)"
      ],
      "metadata": {
        "id": "kXvnj9RbyjjE",
        "colab": {
          "base_uri": "https://localhost:8080/",
          "height": 271
        },
        "outputId": "170255ba-b461-43a2-e672-249be63fa211"
      },
      "execution_count": null,
      "outputs": [
        {
          "output_type": "display_data",
          "data": {
            "text/plain": [
              "<IPython.core.display.HTML object>"
            ],
            "text/html": [
              "\n",
              "<style>\n",
              "  html {\n",
              "    --td-font-color: black;\n",
              "    --font-color: black;\n",
              "    --background-color: #e0e0e0;\n",
              "  }\n",
              "  html[theme=dark] {\n",
              "    --td-font-color: white;\n",
              "    --font-color: black;\n",
              "    --background-color: #6688ff;\n",
              "  }\n",
              "  th {\n",
              "    background: #fbd44c;\n",
              "    color: var(--font-color);\n",
              "    font-size: 16px;\n",
              "    text-align: center;\n",
              "    font-weight: bold;\n",
              "  }\n",
              "  tr:nth-child(even) {\n",
              "    background-color: var(--background-color);\n",
              "    color: var(--font-color);\n",
              "  }\n",
              "  td {\n",
              "    font-size: 14px;\n",
              "    color: var(--td-font-color);\n",
              "  }\n",
              "</style>\n",
              "<div style='max-height: 500px; overflow: auto; width: fit-content; border-style: solid; border-width: 1px; border-color: #0139fe; font-family: GT Planar,Inter,Arial,sans-serif;'><style type=\"text/css\">\n",
              "</style>\n",
              "<table id=\"T_3762b_\">\n",
              "  <thead>\n",
              "    <tr>\n",
              "      <th class=\"blank level0\" >&nbsp;</th>\n",
              "      <th class=\"col_heading level0 col0\" >year</th>\n",
              "      <th class=\"col_heading level0 col1\" >avg(nps)</th>\n",
              "    </tr>\n",
              "  </thead>\n",
              "  <tbody>\n",
              "    <tr>\n",
              "      <th id=\"T_3762b_level0_row0\" class=\"row_heading level0 row0\" >0</th>\n",
              "      <td id=\"T_3762b_row0_col0\" class=\"data row0 col0\" >2016</td>\n",
              "      <td id=\"T_3762b_row0_col1\" class=\"data row0 col1\" >75.76</td>\n",
              "    </tr>\n",
              "    <tr>\n",
              "      <th id=\"T_3762b_level0_row1\" class=\"row_heading level0 row1\" >1</th>\n",
              "      <td id=\"T_3762b_row1_col0\" class=\"data row1 col0\" >2017</td>\n",
              "      <td id=\"T_3762b_row1_col1\" class=\"data row1 col1\" >77.58</td>\n",
              "    </tr>\n",
              "    <tr>\n",
              "      <th id=\"T_3762b_level0_row2\" class=\"row_heading level0 row2\" >2</th>\n",
              "      <td id=\"T_3762b_row2_col0\" class=\"data row2 col0\" >2018</td>\n",
              "      <td id=\"T_3762b_row2_col1\" class=\"data row2 col1\" >75.56</td>\n",
              "    </tr>\n",
              "    <tr>\n",
              "      <th id=\"T_3762b_level0_row3\" class=\"row_heading level0 row3\" >3</th>\n",
              "      <td id=\"T_3762b_row3_col0\" class=\"data row3 col0\" >2019</td>\n",
              "      <td id=\"T_3762b_row3_col1\" class=\"data row3 col1\" >75.93</td>\n",
              "    </tr>\n",
              "    <tr>\n",
              "      <th id=\"T_3762b_level0_row4\" class=\"row_heading level0 row4\" >4</th>\n",
              "      <td id=\"T_3762b_row4_col0\" class=\"data row4 col0\" >2020</td>\n",
              "      <td id=\"T_3762b_row4_col1\" class=\"data row4 col1\" >65.89</td>\n",
              "    </tr>\n",
              "    <tr>\n",
              "      <th id=\"T_3762b_level0_row5\" class=\"row_heading level0 row5\" >5</th>\n",
              "      <td id=\"T_3762b_row5_col0\" class=\"data row5 col0\" >2021</td>\n",
              "      <td id=\"T_3762b_row5_col1\" class=\"data row5 col1\" >73.93</td>\n",
              "    </tr>\n",
              "    <tr>\n",
              "      <th id=\"T_3762b_level0_row6\" class=\"row_heading level0 row6\" >6</th>\n",
              "      <td id=\"T_3762b_row6_col0\" class=\"data row6 col0\" >2022</td>\n",
              "      <td id=\"T_3762b_row6_col1\" class=\"data row6 col1\" >75.99</td>\n",
              "    </tr>\n",
              "    <tr>\n",
              "      <th id=\"T_3762b_level0_row7\" class=\"row_heading level0 row7\" >7</th>\n",
              "      <td id=\"T_3762b_row7_col0\" class=\"data row7 col0\" >2023</td>\n",
              "      <td id=\"T_3762b_row7_col1\" class=\"data row7 col1\" >75.67</td>\n",
              "    </tr>\n",
              "  </tbody>\n",
              "</table>\n",
              "</div>"
            ]
          },
          "metadata": {}
        },
        {
          "output_type": "stream",
          "name": "stdout",
          "text": [
            "-------------------\n",
            "Your SQL query is correct!\n"
          ]
        }
      ]
    },
    {
      "cell_type": "markdown",
      "source": [
        "Ok, good! 2020 was an aberration. The logical next question is why? Are there any explanatory variables? You go talk to some folks who have been around in the company for a long time. They tell you they recollect that it was tough getting enough TAs for many courses in 2020. Additionally, the courses ran for longer to account for sickness of many of the staff as well as learners. You set out to validate this next.\n",
        "\n",
        "Argh... It turns out that expressing the query from last time (q_3_4 from week 1)  using our current SQL knowledge is not so straightforward. While it can be done, it turns out it's very convoluted. We will skip this for now."
      ],
      "metadata": {
        "id": "N6Dyya30zS75"
      }
    },
    {
      "cell_type": "markdown",
      "source": [
        "# **Part 3 - Looking for Pockets of Underperformance:**\n",
        "\n",
        "The head of content creation would like to understand the distribution of nps overall to get their bearings (recall that this is the most important metric for the business)."
      ],
      "metadata": {
        "id": "QJ2-MIWaLxT6"
      }
    },
    {
      "cell_type": "code",
      "source": [
        "### Question: q2_3_1\n",
        "### Find the minimum, maximum, and average  of nps across all courses\n",
        "### Output columns: min_nps, max_nps, avg_nps\n",
        "query = \"\"\"\n",
        "select  max(nps) as max_nps, min(nps) as min_nps, avg(nps) as avg_nps\n",
        "from  course_info join course_run\n",
        "on (course_info.course_id = course_run.course_id)\n",
        "         \"\"\"\n",
        "\n",
        "run(query)\n",
        "check(q2_3_1 = query)"
      ],
      "metadata": {
        "id": "JNxkUrMBjzZb",
        "colab": {
          "base_uri": "https://localhost:8080/",
          "height": 104
        },
        "outputId": "c27e9b61-313a-49e1-f884-25c5666e26cd"
      },
      "execution_count": null,
      "outputs": [
        {
          "output_type": "display_data",
          "data": {
            "text/plain": [
              "<IPython.core.display.HTML object>"
            ],
            "text/html": [
              "\n",
              "<style>\n",
              "  html {\n",
              "    --td-font-color: black;\n",
              "    --font-color: black;\n",
              "    --background-color: #e0e0e0;\n",
              "  }\n",
              "  html[theme=dark] {\n",
              "    --td-font-color: white;\n",
              "    --font-color: black;\n",
              "    --background-color: #6688ff;\n",
              "  }\n",
              "  th {\n",
              "    background: #fbd44c;\n",
              "    color: var(--font-color);\n",
              "    font-size: 16px;\n",
              "    text-align: center;\n",
              "    font-weight: bold;\n",
              "  }\n",
              "  tr:nth-child(even) {\n",
              "    background-color: var(--background-color);\n",
              "    color: var(--font-color);\n",
              "  }\n",
              "  td {\n",
              "    font-size: 14px;\n",
              "    color: var(--td-font-color);\n",
              "  }\n",
              "</style>\n",
              "<div style='max-height: 500px; overflow: auto; width: fit-content; border-style: solid; border-width: 1px; border-color: #0139fe; font-family: GT Planar,Inter,Arial,sans-serif;'><style type=\"text/css\">\n",
              "</style>\n",
              "<table id=\"T_a3a91_\">\n",
              "  <thead>\n",
              "    <tr>\n",
              "      <th class=\"blank level0\" >&nbsp;</th>\n",
              "      <th class=\"col_heading level0 col0\" >max_nps</th>\n",
              "      <th class=\"col_heading level0 col1\" >min_nps</th>\n",
              "      <th class=\"col_heading level0 col2\" >avg_nps</th>\n",
              "    </tr>\n",
              "  </thead>\n",
              "  <tbody>\n",
              "    <tr>\n",
              "      <th id=\"T_a3a91_level0_row0\" class=\"row_heading level0 row0\" >0</th>\n",
              "      <td id=\"T_a3a91_row0_col0\" class=\"data row0 col0\" >100</td>\n",
              "      <td id=\"T_a3a91_row0_col1\" class=\"data row0 col1\" >40</td>\n",
              "      <td id=\"T_a3a91_row0_col2\" class=\"data row0 col2\" >74.37</td>\n",
              "    </tr>\n",
              "  </tbody>\n",
              "</table>\n",
              "</div>"
            ]
          },
          "metadata": {}
        },
        {
          "output_type": "stream",
          "name": "stdout",
          "text": [
            "-------------------\n",
            "Your SQL query is correct!\n"
          ]
        }
      ]
    },
    {
      "cell_type": "markdown",
      "source": [
        "At first blush, the news is good – the average seems to be reasonably high. Of course it would always be good to be better, but it's a start. However, the minimum is quite low. Perhaps there is a pocket of courses that can be improved and we can lift the average that way. You decide to dig deeper and see if you can find pockets of underperformance. You instintctively want  to explore if the size of a course (number of learners) has some correlation with the nps - this is q_4_2 from week 1. Unfortunately this query is also complicated to do with the set of things we have learned so far. We will revisit this next week with subqueries.\n",
        "\n",
        "Meanwhile, you have been joining the head of course content in some feedback interviews with learners. The positive interviews always seems to have two flavors: a few learners preferred courses that ran longer and dug deeper into an area, while others preferred courses that were quick and exposed them to a new area. You decide to investigate this and see if somehow the nps was correlated to this combination of the length of the course and the level of the course."
      ],
      "metadata": {
        "id": "9i8o3-813rpf"
      }
    },
    {
      "cell_type": "code",
      "source": [
        "### Question:q2_3_2\n",
        "### Let's designate courses that are fewer than 4 weeks to be 'short'\n",
        "### and all the others 'long' and call this course_duration.\n",
        "### Let's get the average nps for each course_level and course_duration combination.\n",
        "### Note there should be four rows in your output given that\n",
        "### we have two values for course_duration and two values for course_level.\n",
        "### Output columns: course_duration, course_level, avg_nps\n",
        "query = \"\"\"\n",
        "SELECT CASE WHEN num_weeks <4 then 'short' else 'long' END as course_duration, avg(nps) as avg_nps, course_level\n",
        "from  course_info join course_run\n",
        "on (course_info.course_id = course_run.course_id)\n",
        "GROUP BY course_duration, course_level\n",
        "      \"\"\"\n",
        "\n",
        "run(query)\n",
        "check(q2_3_2 = query)"
      ],
      "metadata": {
        "id": "qEwsg1XrNrSP",
        "colab": {
          "base_uri": "https://localhost:8080/",
          "height": 176
        },
        "outputId": "6e934067-23f7-4421-a48f-60162ca8ba3c"
      },
      "execution_count": null,
      "outputs": [
        {
          "output_type": "display_data",
          "data": {
            "text/plain": [
              "<IPython.core.display.HTML object>"
            ],
            "text/html": [
              "\n",
              "<style>\n",
              "  html {\n",
              "    --td-font-color: black;\n",
              "    --font-color: black;\n",
              "    --background-color: #e0e0e0;\n",
              "  }\n",
              "  html[theme=dark] {\n",
              "    --td-font-color: white;\n",
              "    --font-color: black;\n",
              "    --background-color: #6688ff;\n",
              "  }\n",
              "  th {\n",
              "    background: #fbd44c;\n",
              "    color: var(--font-color);\n",
              "    font-size: 16px;\n",
              "    text-align: center;\n",
              "    font-weight: bold;\n",
              "  }\n",
              "  tr:nth-child(even) {\n",
              "    background-color: var(--background-color);\n",
              "    color: var(--font-color);\n",
              "  }\n",
              "  td {\n",
              "    font-size: 14px;\n",
              "    color: var(--td-font-color);\n",
              "  }\n",
              "</style>\n",
              "<div style='max-height: 500px; overflow: auto; width: fit-content; border-style: solid; border-width: 1px; border-color: #0139fe; font-family: GT Planar,Inter,Arial,sans-serif;'><style type=\"text/css\">\n",
              "</style>\n",
              "<table id=\"T_d1fda_\">\n",
              "  <thead>\n",
              "    <tr>\n",
              "      <th class=\"blank level0\" >&nbsp;</th>\n",
              "      <th class=\"col_heading level0 col0\" >course_duration</th>\n",
              "      <th class=\"col_heading level0 col1\" >avg_nps</th>\n",
              "      <th class=\"col_heading level0 col2\" >course_level</th>\n",
              "    </tr>\n",
              "  </thead>\n",
              "  <tbody>\n",
              "    <tr>\n",
              "      <th id=\"T_d1fda_level0_row0\" class=\"row_heading level0 row0\" >0</th>\n",
              "      <td id=\"T_d1fda_row0_col0\" class=\"data row0 col0\" >long</td>\n",
              "      <td id=\"T_d1fda_row0_col1\" class=\"data row0 col1\" >77.95</td>\n",
              "      <td id=\"T_d1fda_row0_col2\" class=\"data row0 col2\" >A</td>\n",
              "    </tr>\n",
              "    <tr>\n",
              "      <th id=\"T_d1fda_level0_row1\" class=\"row_heading level0 row1\" >1</th>\n",
              "      <td id=\"T_d1fda_row1_col0\" class=\"data row1 col0\" >long</td>\n",
              "      <td id=\"T_d1fda_row1_col1\" class=\"data row1 col1\" >69.91</td>\n",
              "      <td id=\"T_d1fda_row1_col2\" class=\"data row1 col2\" >B</td>\n",
              "    </tr>\n",
              "    <tr>\n",
              "      <th id=\"T_d1fda_level0_row2\" class=\"row_heading level0 row2\" >2</th>\n",
              "      <td id=\"T_d1fda_row2_col0\" class=\"data row2 col0\" >short</td>\n",
              "      <td id=\"T_d1fda_row2_col1\" class=\"data row2 col1\" >69.44</td>\n",
              "      <td id=\"T_d1fda_row2_col2\" class=\"data row2 col2\" >A</td>\n",
              "    </tr>\n",
              "    <tr>\n",
              "      <th id=\"T_d1fda_level0_row3\" class=\"row_heading level0 row3\" >3</th>\n",
              "      <td id=\"T_d1fda_row3_col0\" class=\"data row3 col0\" >short</td>\n",
              "      <td id=\"T_d1fda_row3_col1\" class=\"data row3 col1\" >80.74</td>\n",
              "      <td id=\"T_d1fda_row3_col2\" class=\"data row3 col2\" >B</td>\n",
              "    </tr>\n",
              "  </tbody>\n",
              "</table>\n",
              "</div>"
            ]
          },
          "metadata": {}
        },
        {
          "output_type": "stream",
          "name": "stdout",
          "text": [
            "-------------------\n",
            "Your SQL query is correct!\n"
          ]
        }
      ]
    },
    {
      "cell_type": "markdown",
      "source": [
        "Aha! Indeed the advanced courses seem to make more sense when they are run longer. Perhaps the learners feel they are able to dig into the subject. Conversely, shorter basic courses are more valuable - just a quickstart or a crash course to get introduced to a new area so they can come back to advanced courses after digesting the basic course quickly. A great analysis by you and something that has made a huge dent in understanding the course data!"
      ],
      "metadata": {
        "id": "fOvSvRQNPzXG"
      }
    },
    {
      "cell_type": "markdown",
      "source": [
        "# **Part 4 - Bonus Questions: Troubleshooting and Analytics for Enterprise Customers**\n",
        "\n",
        "This section is bonus and the queries are a bit more complex in this section.\n",
        "\n",
        "One of your main jobs as an analyst is to handle one-off requests for data and analysis from your customer-facing sales teams. CoRise works with a number of enterprise customers who send groups of learners as well as supply top quality instructors to CoRise. As a result, it's important to equip the CoRise sales teams with the right kind of information and insights."
      ],
      "metadata": {
        "id": "_oxkhg0RwOB8"
      }
    },
    {
      "cell_type": "markdown",
      "source": [
        "The account manager for M & T Bank Corporation wants to understand the nps of basic courses attended by more than just a few learners from M & T Bank Corporation provided the instructor is not from M & T Corporation.\n",
        "\n",
        "\n",
        "\n"
      ],
      "metadata": {
        "id": "CCtcDIZuSniC"
      }
    },
    {
      "cell_type": "code",
      "source": [
        "### Question:q2_4_1\n",
        "### Get the course_name, course_run_id, number of learners from M & T Bank, & nps\n",
        "### for each course run that has more than 2 learners from M & T Bank\n",
        "### and is taught by an instructor who isn't from M & T Bank Corporation\n",
        "### for a basic course (course level = 'B').\n",
        "### Hint: This requires you to join all five tables from this week's project schema.\n",
        "### Hint: To get the number of learners you will need to group by all other columns\n",
        "### in the select clause and use count to get to the number of learners.\n",
        "### Output Columns: course_name, CR.course_run_id, num_learners, nps\n",
        "query = \"\"\"\n",
        "\n",
        "\n",
        "\"\"\"\n",
        "\n",
        "run(query)\n",
        "check(q2_4_1 = query)\n",
        "\n"
      ],
      "metadata": {
        "id": "i7bdROF_UZXm",
        "colab": {
          "base_uri": "https://localhost:8080/",
          "height": 657
        },
        "outputId": "d3016e6d-a46b-4b31-8c8b-d02cdc2635a0"
      },
      "execution_count": null,
      "outputs": [
        {
          "output_type": "error",
          "ename": "DatabaseError",
          "evalue": "ignored",
          "traceback": [
            "\u001b[0;31m---------------------------------------------------------------------------\u001b[0m",
            "\u001b[0;31mOperationalError\u001b[0m                          Traceback (most recent call last)",
            "\u001b[0;32m/usr/local/lib/python3.7/dist-packages/pandas/io/sql.py\u001b[0m in \u001b[0;36mexecute\u001b[0;34m(self, *args, **kwargs)\u001b[0m\n\u001b[1;32m   2055\u001b[0m         \u001b[0;32mtry\u001b[0m\u001b[0;34m:\u001b[0m\u001b[0;34m\u001b[0m\u001b[0;34m\u001b[0m\u001b[0m\n\u001b[0;32m-> 2056\u001b[0;31m             \u001b[0mcur\u001b[0m\u001b[0;34m.\u001b[0m\u001b[0mexecute\u001b[0m\u001b[0;34m(\u001b[0m\u001b[0;34m*\u001b[0m\u001b[0margs\u001b[0m\u001b[0;34m,\u001b[0m \u001b[0;34m**\u001b[0m\u001b[0mkwargs\u001b[0m\u001b[0;34m)\u001b[0m\u001b[0;34m\u001b[0m\u001b[0;34m\u001b[0m\u001b[0m\n\u001b[0m\u001b[1;32m   2057\u001b[0m             \u001b[0;32mreturn\u001b[0m \u001b[0mcur\u001b[0m\u001b[0;34m\u001b[0m\u001b[0;34m\u001b[0m\u001b[0m\n",
            "\u001b[0;31mOperationalError\u001b[0m: ambiguous column name: learner_id",
            "\nThe above exception was the direct cause of the following exception:\n",
            "\u001b[0;31mDatabaseError\u001b[0m                             Traceback (most recent call last)",
            "\u001b[0;32m<ipython-input-48-eed98487cc07>\u001b[0m in \u001b[0;36m<module>\u001b[0;34m\u001b[0m\n\u001b[1;32m     22\u001b[0m \"\"\"\n\u001b[1;32m     23\u001b[0m \u001b[0;34m\u001b[0m\u001b[0m\n\u001b[0;32m---> 24\u001b[0;31m \u001b[0mrun\u001b[0m\u001b[0;34m(\u001b[0m\u001b[0mquery\u001b[0m\u001b[0;34m)\u001b[0m\u001b[0;34m\u001b[0m\u001b[0;34m\u001b[0m\u001b[0m\n\u001b[0m\u001b[1;32m     25\u001b[0m \u001b[0mcheck\u001b[0m\u001b[0;34m(\u001b[0m\u001b[0mq2_4_1\u001b[0m \u001b[0;34m=\u001b[0m \u001b[0mquery\u001b[0m\u001b[0;34m)\u001b[0m\u001b[0;34m\u001b[0m\u001b[0;34m\u001b[0m\u001b[0m\n\u001b[1;32m     26\u001b[0m \u001b[0;34m\u001b[0m\u001b[0m\n",
            "\u001b[0;32m<ipython-input-2-224df8a6f647>\u001b[0m in \u001b[0;36mrun\u001b[0;34m(sql_query)\u001b[0m\n\u001b[1;32m     47\u001b[0m \u001b[0;34m\u001b[0m\u001b[0m\n\u001b[1;32m     48\u001b[0m \u001b[0;32mdef\u001b[0m \u001b[0mrun\u001b[0m\u001b[0;34m(\u001b[0m\u001b[0msql_query\u001b[0m\u001b[0;34m)\u001b[0m\u001b[0;34m:\u001b[0m\u001b[0;34m\u001b[0m\u001b[0;34m\u001b[0m\u001b[0m\n\u001b[0;32m---> 49\u001b[0;31m   \u001b[0mdf\u001b[0m \u001b[0;34m=\u001b[0m \u001b[0msql_run\u001b[0m\u001b[0;34m(\u001b[0m\u001b[0msql_query\u001b[0m\u001b[0;34m)\u001b[0m\u001b[0;34m\u001b[0m\u001b[0;34m\u001b[0m\u001b[0m\n\u001b[0m\u001b[1;32m     50\u001b[0m \u001b[0;34m\u001b[0m\u001b[0m\n\u001b[1;32m     51\u001b[0m   \u001b[0;31m# Puts the scrollbar next to the DataFrame\u001b[0m\u001b[0;34m\u001b[0m\u001b[0;34m\u001b[0m\u001b[0;34m\u001b[0m\u001b[0m\n",
            "\u001b[0;32m/usr/local/lib/python3.7/dist-packages/sql_course/sql.py\u001b[0m in \u001b[0;36mrun\u001b[0;34m(sql_query)\u001b[0m\n\u001b[1;32m     52\u001b[0m \u001b[0;34m\u001b[0m\u001b[0m\n\u001b[1;32m     53\u001b[0m     \u001b[0;31m# Open the connection and run the query\u001b[0m\u001b[0;34m\u001b[0m\u001b[0;34m\u001b[0m\u001b[0;34m\u001b[0m\u001b[0m\n\u001b[0;32m---> 54\u001b[0;31m     \u001b[0mdataframe\u001b[0m \u001b[0;34m=\u001b[0m \u001b[0mpd\u001b[0m\u001b[0;34m.\u001b[0m\u001b[0mread_sql_query\u001b[0m\u001b[0;34m(\u001b[0m\u001b[0msql_query\u001b[0m\u001b[0;34m,\u001b[0m \u001b[0mcnx\u001b[0m\u001b[0;34m)\u001b[0m\u001b[0;34m\u001b[0m\u001b[0;34m\u001b[0m\u001b[0m\n\u001b[0m\u001b[1;32m     55\u001b[0m \u001b[0;34m\u001b[0m\u001b[0m\n\u001b[1;32m     56\u001b[0m     \u001b[0;31m# Close the connection.\u001b[0m\u001b[0;34m\u001b[0m\u001b[0;34m\u001b[0m\u001b[0;34m\u001b[0m\u001b[0m\n",
            "\u001b[0;32m/usr/local/lib/python3.7/dist-packages/pandas/io/sql.py\u001b[0m in \u001b[0;36mread_sql_query\u001b[0;34m(sql, con, index_col, coerce_float, params, parse_dates, chunksize, dtype)\u001b[0m\n\u001b[1;32m    441\u001b[0m         \u001b[0mparse_dates\u001b[0m\u001b[0;34m=\u001b[0m\u001b[0mparse_dates\u001b[0m\u001b[0;34m,\u001b[0m\u001b[0;34m\u001b[0m\u001b[0;34m\u001b[0m\u001b[0m\n\u001b[1;32m    442\u001b[0m         \u001b[0mchunksize\u001b[0m\u001b[0;34m=\u001b[0m\u001b[0mchunksize\u001b[0m\u001b[0;34m,\u001b[0m\u001b[0;34m\u001b[0m\u001b[0;34m\u001b[0m\u001b[0m\n\u001b[0;32m--> 443\u001b[0;31m         \u001b[0mdtype\u001b[0m\u001b[0;34m=\u001b[0m\u001b[0mdtype\u001b[0m\u001b[0;34m,\u001b[0m\u001b[0;34m\u001b[0m\u001b[0;34m\u001b[0m\u001b[0m\n\u001b[0m\u001b[1;32m    444\u001b[0m     )\n\u001b[1;32m    445\u001b[0m \u001b[0;34m\u001b[0m\u001b[0m\n",
            "\u001b[0;32m/usr/local/lib/python3.7/dist-packages/pandas/io/sql.py\u001b[0m in \u001b[0;36mread_query\u001b[0;34m(self, sql, index_col, coerce_float, params, parse_dates, chunksize, dtype)\u001b[0m\n\u001b[1;32m   2114\u001b[0m \u001b[0;34m\u001b[0m\u001b[0m\n\u001b[1;32m   2115\u001b[0m         \u001b[0margs\u001b[0m \u001b[0;34m=\u001b[0m \u001b[0m_convert_params\u001b[0m\u001b[0;34m(\u001b[0m\u001b[0msql\u001b[0m\u001b[0;34m,\u001b[0m \u001b[0mparams\u001b[0m\u001b[0;34m)\u001b[0m\u001b[0;34m\u001b[0m\u001b[0;34m\u001b[0m\u001b[0m\n\u001b[0;32m-> 2116\u001b[0;31m         \u001b[0mcursor\u001b[0m \u001b[0;34m=\u001b[0m \u001b[0mself\u001b[0m\u001b[0;34m.\u001b[0m\u001b[0mexecute\u001b[0m\u001b[0;34m(\u001b[0m\u001b[0;34m*\u001b[0m\u001b[0margs\u001b[0m\u001b[0;34m)\u001b[0m\u001b[0;34m\u001b[0m\u001b[0;34m\u001b[0m\u001b[0m\n\u001b[0m\u001b[1;32m   2117\u001b[0m         \u001b[0mcolumns\u001b[0m \u001b[0;34m=\u001b[0m \u001b[0;34m[\u001b[0m\u001b[0mcol_desc\u001b[0m\u001b[0;34m[\u001b[0m\u001b[0;36m0\u001b[0m\u001b[0;34m]\u001b[0m \u001b[0;32mfor\u001b[0m \u001b[0mcol_desc\u001b[0m \u001b[0;32min\u001b[0m \u001b[0mcursor\u001b[0m\u001b[0;34m.\u001b[0m\u001b[0mdescription\u001b[0m\u001b[0;34m]\u001b[0m\u001b[0;34m\u001b[0m\u001b[0;34m\u001b[0m\u001b[0m\n\u001b[1;32m   2118\u001b[0m \u001b[0;34m\u001b[0m\u001b[0m\n",
            "\u001b[0;32m/usr/local/lib/python3.7/dist-packages/pandas/io/sql.py\u001b[0m in \u001b[0;36mexecute\u001b[0;34m(self, *args, **kwargs)\u001b[0m\n\u001b[1;32m   2066\u001b[0m \u001b[0;34m\u001b[0m\u001b[0m\n\u001b[1;32m   2067\u001b[0m             \u001b[0mex\u001b[0m \u001b[0;34m=\u001b[0m \u001b[0mDatabaseError\u001b[0m\u001b[0;34m(\u001b[0m\u001b[0;34mf\"Execution failed on sql '{args[0]}': {exc}\"\u001b[0m\u001b[0;34m)\u001b[0m\u001b[0;34m\u001b[0m\u001b[0;34m\u001b[0m\u001b[0m\n\u001b[0;32m-> 2068\u001b[0;31m             \u001b[0;32mraise\u001b[0m \u001b[0mex\u001b[0m \u001b[0;32mfrom\u001b[0m \u001b[0mexc\u001b[0m\u001b[0;34m\u001b[0m\u001b[0;34m\u001b[0m\u001b[0m\n\u001b[0m\u001b[1;32m   2069\u001b[0m \u001b[0;34m\u001b[0m\u001b[0m\n\u001b[1;32m   2070\u001b[0m     \u001b[0;34m@\u001b[0m\u001b[0mstaticmethod\u001b[0m\u001b[0;34m\u001b[0m\u001b[0;34m\u001b[0m\u001b[0m\n",
            "\u001b[0;31mDatabaseError\u001b[0m: Execution failed on sql '\n           SELECT count(learner_id) as num_learners, nps\n FROM course_run as CR JOIN course_registration_info as CRI\n          on (CR.course_run_id = CRI.course_run_id)\n          inner join learners as L on (L.num_learner = CRI.num_learner)\n          inner join course_info as CI on (CR.course_id = CI.course_id)\n          inner join instructors as I  on (CR.instructors_id = I.instructors_id)\n    WHERE learners.affiliation= 'M & T Bank' and I.affiliation != 'M & T Bank' and course_level = 'B'\n    GROUP BY course_name, nps\n    HAVING num_learners >2\n  \n     \n': ambiguous column name: learner_id"
          ]
        }
      ]
    },
    {
      "cell_type": "markdown",
      "source": [
        "There seems to have been only one course where the nps was particularly low. The account manager sets off to learn more from the course manager about what may have happened during that course. Then they will be able to communicate to their customer that the courses for their learners are predominantly going well, and they may also be able to educate them on the reasons this course was worse and collect feedback from the customer on that course as well."
      ],
      "metadata": {
        "id": "UBelYI_hYjf5"
      }
    },
    {
      "cell_type": "markdown",
      "source": [
        "After a few months, the account manager from Cincinnati Financial Corp. is wondering how courses run by instructors from Cincinnati Financial Corp. are performing. In particular, they want to know which course runs with an instructor from Cincinnati Financial Corp. have been followed by another run of the same course (taught by anyone) later but still within the same calendar year or the next calendar year with a substantially higher nps (difference of at least 10)."
      ],
      "metadata": {
        "id": "ghNL1mWeZLTq"
      }
    },
    {
      "cell_type": "code",
      "source": [
        "### Question:q2_4_2\n",
        "### Which course runs (CR1.course_run_id) with an instructor from Cincinnati\n",
        "### Financial Corp. have been followed by another run (CR2.course_run_id,\n",
        "### any instructor affiliation) of the same course (same course_id)\n",
        "### later but still within the samevcalendar year or the next calendar year\n",
        "### with a substantially higher nps (difference of at least 10).\n",
        "### Hint: Recall that we did a self join here in this module (url below).\n",
        "### It may be useful to review that info here:\n",
        "### https://corise.com/course/intermediate-sql/v2/module/week-2-joins-involving-more-than-two-tables-3hx8j#corise_cl953jnuf00083b73cuijvbhw\n",
        "### Output Columns: CR1.course_run_id, CR2.course_run_id, CR1.nps, CR2.nps,\n",
        "###                 I1.affiliation, I2.affiliation, CR1.start_date, CR2.start_date\n",
        "query = \"\"\"\n",
        "\n",
        "\n",
        "\n",
        "\"\"\"\n",
        "\n",
        "run(query)\n",
        "check(q2_4_2 = query)"
      ],
      "metadata": {
        "id": "XPBF88vDZKu5"
      },
      "execution_count": null,
      "outputs": []
    },
    {
      "cell_type": "markdown",
      "source": [
        "Your account managers cannot thank you enough for the ammunition you have provided for their conversations with their customers. This has been hugely helpful."
      ],
      "metadata": {
        "id": "aWxdTCWZqy5c"
      }
    },
    {
      "cell_type": "markdown",
      "source": [
        "# **Conclusion:**\n",
        "\n",
        "Wow! You have become a master at combining tables. This means you are ready to drive serious impact on any set of tables in a production environment."
      ],
      "metadata": {
        "id": "G9N7hL1WQWty"
      }
    }
  ]
}